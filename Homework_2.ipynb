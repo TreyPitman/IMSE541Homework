{
  "nbformat": 4,
  "nbformat_minor": 0,
  "metadata": {
    "colab": {
      "provenance": [],
      "collapsed_sections": []
    },
    "kernelspec": {
      "name": "python3",
      "display_name": "Python 3"
    },
    "language_info": {
      "name": "python"
    }
  },
  "cells": [
    {
      "cell_type": "code",
      "execution_count": null,
      "metadata": {
        "colab": {
          "base_uri": "https://localhost:8080/"
        },
        "id": "FOfcaZS1azeK",
        "outputId": "29475f2c-3e28-48aa-c98e-fae08c4e88cf"
      },
      "outputs": [
        {
          "output_type": "stream",
          "name": "stdout",
          "text": [
            "Drive already mounted at /content/drive; to attempt to forcibly remount, call drive.mount(\"/content/drive\", force_remount=True).\n"
          ]
        }
      ],
      "source": [
        "from google.colab import drive\n",
        "drive.mount('/content/drive')\n",
        "import matplotlib.pyplot as plt\n",
        "import pandas as pd\n",
        "import numpy as np\n",
        "import scipy.stats as stats"
      ]
    },
    {
      "cell_type": "code",
      "source": [
        "data1 = pd.read_csv('drive/My Drive/Colab/BushingDiameter.csv', sep=',')"
      ],
      "metadata": {
        "id": "iwW2CM_sa5LE"
      },
      "execution_count": null,
      "outputs": []
    },
    {
      "cell_type": "markdown",
      "source": [
        "**Question 1**"
      ],
      "metadata": {
        "id": "ik2QVQ_ciKEC"
      }
    },
    {
      "cell_type": "code",
      "source": [
        "data1.describe()"
      ],
      "metadata": {
        "colab": {
          "base_uri": "https://localhost:8080/",
          "height": 300
        },
        "id": "l9LOfJkybDX-",
        "outputId": "3964212c-1648-4d89-8043-7bd4c391c5ee"
      },
      "execution_count": null,
      "outputs": [
        {
          "output_type": "execute_result",
          "data": {
            "text/plain": [
              "         Batch 1    Batch 2\n",
              "count  50.000000  50.000000\n",
              "mean    1.003360   1.003660\n",
              "std     0.007714   0.007227\n",
              "min     0.985000   0.990000\n",
              "25%     0.999000   1.000000\n",
              "50%     1.001000   1.005000\n",
              "75%     1.009000   1.006750\n",
              "max     1.025000   1.019000"
            ],
            "text/html": [
              "\n",
              "  <div id=\"df-113b9f21-c4fa-4303-ada0-be02b296d4bf\">\n",
              "    <div class=\"colab-df-container\">\n",
              "      <div>\n",
              "<style scoped>\n",
              "    .dataframe tbody tr th:only-of-type {\n",
              "        vertical-align: middle;\n",
              "    }\n",
              "\n",
              "    .dataframe tbody tr th {\n",
              "        vertical-align: top;\n",
              "    }\n",
              "\n",
              "    .dataframe thead th {\n",
              "        text-align: right;\n",
              "    }\n",
              "</style>\n",
              "<table border=\"1\" class=\"dataframe\">\n",
              "  <thead>\n",
              "    <tr style=\"text-align: right;\">\n",
              "      <th></th>\n",
              "      <th>Batch 1</th>\n",
              "      <th>Batch 2</th>\n",
              "    </tr>\n",
              "  </thead>\n",
              "  <tbody>\n",
              "    <tr>\n",
              "      <th>count</th>\n",
              "      <td>50.000000</td>\n",
              "      <td>50.000000</td>\n",
              "    </tr>\n",
              "    <tr>\n",
              "      <th>mean</th>\n",
              "      <td>1.003360</td>\n",
              "      <td>1.003660</td>\n",
              "    </tr>\n",
              "    <tr>\n",
              "      <th>std</th>\n",
              "      <td>0.007714</td>\n",
              "      <td>0.007227</td>\n",
              "    </tr>\n",
              "    <tr>\n",
              "      <th>min</th>\n",
              "      <td>0.985000</td>\n",
              "      <td>0.990000</td>\n",
              "    </tr>\n",
              "    <tr>\n",
              "      <th>25%</th>\n",
              "      <td>0.999000</td>\n",
              "      <td>1.000000</td>\n",
              "    </tr>\n",
              "    <tr>\n",
              "      <th>50%</th>\n",
              "      <td>1.001000</td>\n",
              "      <td>1.005000</td>\n",
              "    </tr>\n",
              "    <tr>\n",
              "      <th>75%</th>\n",
              "      <td>1.009000</td>\n",
              "      <td>1.006750</td>\n",
              "    </tr>\n",
              "    <tr>\n",
              "      <th>max</th>\n",
              "      <td>1.025000</td>\n",
              "      <td>1.019000</td>\n",
              "    </tr>\n",
              "  </tbody>\n",
              "</table>\n",
              "</div>\n",
              "      <button class=\"colab-df-convert\" onclick=\"convertToInteractive('df-113b9f21-c4fa-4303-ada0-be02b296d4bf')\"\n",
              "              title=\"Convert this dataframe to an interactive table.\"\n",
              "              style=\"display:none;\">\n",
              "        \n",
              "  <svg xmlns=\"http://www.w3.org/2000/svg\" height=\"24px\"viewBox=\"0 0 24 24\"\n",
              "       width=\"24px\">\n",
              "    <path d=\"M0 0h24v24H0V0z\" fill=\"none\"/>\n",
              "    <path d=\"M18.56 5.44l.94 2.06.94-2.06 2.06-.94-2.06-.94-.94-2.06-.94 2.06-2.06.94zm-11 1L8.5 8.5l.94-2.06 2.06-.94-2.06-.94L8.5 2.5l-.94 2.06-2.06.94zm10 10l.94 2.06.94-2.06 2.06-.94-2.06-.94-.94-2.06-.94 2.06-2.06.94z\"/><path d=\"M17.41 7.96l-1.37-1.37c-.4-.4-.92-.59-1.43-.59-.52 0-1.04.2-1.43.59L10.3 9.45l-7.72 7.72c-.78.78-.78 2.05 0 2.83L4 21.41c.39.39.9.59 1.41.59.51 0 1.02-.2 1.41-.59l7.78-7.78 2.81-2.81c.8-.78.8-2.07 0-2.86zM5.41 20L4 18.59l7.72-7.72 1.47 1.35L5.41 20z\"/>\n",
              "  </svg>\n",
              "      </button>\n",
              "      \n",
              "  <style>\n",
              "    .colab-df-container {\n",
              "      display:flex;\n",
              "      flex-wrap:wrap;\n",
              "      gap: 12px;\n",
              "    }\n",
              "\n",
              "    .colab-df-convert {\n",
              "      background-color: #E8F0FE;\n",
              "      border: none;\n",
              "      border-radius: 50%;\n",
              "      cursor: pointer;\n",
              "      display: none;\n",
              "      fill: #1967D2;\n",
              "      height: 32px;\n",
              "      padding: 0 0 0 0;\n",
              "      width: 32px;\n",
              "    }\n",
              "\n",
              "    .colab-df-convert:hover {\n",
              "      background-color: #E2EBFA;\n",
              "      box-shadow: 0px 1px 2px rgba(60, 64, 67, 0.3), 0px 1px 3px 1px rgba(60, 64, 67, 0.15);\n",
              "      fill: #174EA6;\n",
              "    }\n",
              "\n",
              "    [theme=dark] .colab-df-convert {\n",
              "      background-color: #3B4455;\n",
              "      fill: #D2E3FC;\n",
              "    }\n",
              "\n",
              "    [theme=dark] .colab-df-convert:hover {\n",
              "      background-color: #434B5C;\n",
              "      box-shadow: 0px 1px 3px 1px rgba(0, 0, 0, 0.15);\n",
              "      filter: drop-shadow(0px 1px 2px rgba(0, 0, 0, 0.3));\n",
              "      fill: #FFFFFF;\n",
              "    }\n",
              "  </style>\n",
              "\n",
              "      <script>\n",
              "        const buttonEl =\n",
              "          document.querySelector('#df-113b9f21-c4fa-4303-ada0-be02b296d4bf button.colab-df-convert');\n",
              "        buttonEl.style.display =\n",
              "          google.colab.kernel.accessAllowed ? 'block' : 'none';\n",
              "\n",
              "        async function convertToInteractive(key) {\n",
              "          const element = document.querySelector('#df-113b9f21-c4fa-4303-ada0-be02b296d4bf');\n",
              "          const dataTable =\n",
              "            await google.colab.kernel.invokeFunction('convertToInteractive',\n",
              "                                                     [key], {});\n",
              "          if (!dataTable) return;\n",
              "\n",
              "          const docLinkHtml = 'Like what you see? Visit the ' +\n",
              "            '<a target=\"_blank\" href=https://colab.research.google.com/notebooks/data_table.ipynb>data table notebook</a>'\n",
              "            + ' to learn more about interactive tables.';\n",
              "          element.innerHTML = '';\n",
              "          dataTable['output_type'] = 'display_data';\n",
              "          await google.colab.output.renderOutput(dataTable, element);\n",
              "          const docLink = document.createElement('div');\n",
              "          docLink.innerHTML = docLinkHtml;\n",
              "          element.appendChild(docLink);\n",
              "        }\n",
              "      </script>\n",
              "    </div>\n",
              "  </div>\n",
              "  "
            ]
          },
          "metadata": {},
          "execution_count": 20
        }
      ]
    },
    {
      "cell_type": "markdown",
      "source": [
        "As you can see from this data, both batches appear to have to same mean (this will be tested further later), but all of their other statistics seem to differ slightly. Batch 1 has a higher max and a lower min than Batch 2 and also a higher standard deviation"
      ],
      "metadata": {
        "id": "ctqu3f59ca5i"
      }
    },
    {
      "cell_type": "code",
      "source": [
        "plt.hist(data1['Batch 1'],range=[0.98, 1.03], bins = 50)"
      ],
      "metadata": {
        "colab": {
          "base_uri": "https://localhost:8080/",
          "height": 439
        },
        "id": "LdRRCz64bRPS",
        "outputId": "343e4f4f-2929-4a83-dcf1-31e4f0e723af"
      },
      "execution_count": null,
      "outputs": [
        {
          "output_type": "execute_result",
          "data": {
            "text/plain": [
              "(array([0., 0., 0., 0., 0., 1., 0., 0., 0., 1., 0., 0., 0., 0., 2., 6., 0.,\n",
              "        0., 0., 4., 8., 4., 0., 5., 2., 0., 1., 0., 5., 5., 0., 0., 0., 0.,\n",
              "        4., 0., 0., 0., 0., 1., 0., 0., 0., 0., 1., 0., 0., 0., 0., 0.]),\n",
              " array([0.98 , 0.981, 0.982, 0.983, 0.984, 0.985, 0.986, 0.987, 0.988,\n",
              "        0.989, 0.99 , 0.991, 0.992, 0.993, 0.994, 0.995, 0.996, 0.997,\n",
              "        0.998, 0.999, 1.   , 1.001, 1.002, 1.003, 1.004, 1.005, 1.006,\n",
              "        1.007, 1.008, 1.009, 1.01 , 1.011, 1.012, 1.013, 1.014, 1.015,\n",
              "        1.016, 1.017, 1.018, 1.019, 1.02 , 1.021, 1.022, 1.023, 1.024,\n",
              "        1.025, 1.026, 1.027, 1.028, 1.029, 1.03 ]),\n",
              " <a list of 50 Patch objects>)"
            ]
          },
          "metadata": {},
          "execution_count": 27
        },
        {
          "output_type": "display_data",
          "data": {
            "text/plain": [
              "<Figure size 432x288 with 1 Axes>"
            ],
            "image/png": "[encoded data removed]"
          },
          "metadata": {
            "needs_background": "light"
          }
        }
      ]
    },
    {
      "cell_type": "code",
      "source": [
        "plt.hist(data1['Batch 2'],range=[0.98, 1.03], bins = 50)"
      ],
      "metadata": {
        "colab": {
          "base_uri": "https://localhost:8080/",
          "height": 439
        },
        "id": "daeiNBBybutZ",
        "outputId": "ac896c1f-38ba-4244-e564-d683b8299051"
      },
      "execution_count": null,
      "outputs": [
        {
          "output_type": "execute_result",
          "data": {
            "text/plain": [
              "(array([0., 0., 0., 0., 0., 0., 0., 0., 0., 0., 4., 0., 1., 0., 0., 3., 1.,\n",
              "        0., 0., 3., 5., 6., 0., 0., 9., 0., 7., 0., 0., 4., 0., 0., 0., 0.,\n",
              "        4., 0., 2., 0., 0., 1., 0., 0., 0., 0., 0., 0., 0., 0., 0., 0.]),\n",
              " array([0.98 , 0.981, 0.982, 0.983, 0.984, 0.985, 0.986, 0.987, 0.988,\n",
              "        0.989, 0.99 , 0.991, 0.992, 0.993, 0.994, 0.995, 0.996, 0.997,\n",
              "        0.998, 0.999, 1.   , 1.001, 1.002, 1.003, 1.004, 1.005, 1.006,\n",
              "        1.007, 1.008, 1.009, 1.01 , 1.011, 1.012, 1.013, 1.014, 1.015,\n",
              "        1.016, 1.017, 1.018, 1.019, 1.02 , 1.021, 1.022, 1.023, 1.024,\n",
              "        1.025, 1.026, 1.027, 1.028, 1.029, 1.03 ]),\n",
              " <a list of 50 Patch objects>)"
            ]
          },
          "metadata": {},
          "execution_count": 26
        },
        {
          "output_type": "display_data",
          "data": {
            "text/plain": [
              "<Figure size 432x288 with 1 Axes>"
            ],
            "image/png": "[encoded data removed]"
          },
          "metadata": {
            "needs_background": "light"
          }
        }
      ]
    },
    {
      "cell_type": "markdown",
      "source": [
        "From these graph we can see more of a difference in the two data sets. Batch 1 seems to have a couple values that are more extreme than Batch 2. Batch 2 also appears to be more tightly grouped around the median while Batch one is slightly more spread out."
      ],
      "metadata": {
        "id": "B5BhWWW4czv5"
      }
    },
    {
      "cell_type": "markdown",
      "source": [
        "**Question 2**"
      ],
      "metadata": {
        "id": "aDoCiupre0EK"
      }
    },
    {
      "cell_type": "markdown",
      "source": [
        "To check whether these 2 batches are from the same population, I will be using a t-test. First I will need to compare the variances of the batches to see if they are equal."
      ],
      "metadata": {
        "id": "VKLPqiEme3nC"
      }
    },
    {
      "cell_type": "code",
      "source": [
        "np.var(data1['Batch 1'])/np.var(data1['Batch 2'])"
      ],
      "metadata": {
        "colab": {
          "base_uri": "https://localhost:8080/"
        },
        "id": "9gyybEh2cNLB",
        "outputId": "c0202ed7-7023-4c05-a0d3-8b077fe33791"
      },
      "execution_count": null,
      "outputs": [
        {
          "output_type": "execute_result",
          "data": {
            "text/plain": [
              "1.1392199163691206"
            ]
          },
          "metadata": {},
          "execution_count": 32
        }
      ]
    },
    {
      "cell_type": "markdown",
      "source": [
        "Since the ratio of the variances is close to 1 we can set the \"equal_var\" to True"
      ],
      "metadata": {
        "id": "mi9m0lbBf2oS"
      }
    },
    {
      "cell_type": "markdown",
      "source": [
        "For this hypothesis test we will be seeing if we can reject the null hypothesis that the means of both batches are not equal. The random variable is the Bushing diameter.\n",
        "\n",
        "H0 = Batch 1 and Batch 2 have the same mean.\n",
        "\n",
        "H1 = Batch 1 and Batch 2 have a different mean."
      ],
      "metadata": {
        "id": "xeVVm6fphRt7"
      }
    },
    {
      "cell_type": "code",
      "source": [
        "stats.ttest_ind(a=data1['Batch 1'], b=data1['Batch 2'], equal_var=True)"
      ],
      "metadata": {
        "colab": {
          "base_uri": "https://localhost:8080/"
        },
        "id": "PFAEBjRqfy53",
        "outputId": "30e8fa2d-65ee-451d-82ff-77f26a308b93"
      },
      "execution_count": null,
      "outputs": [
        {
          "output_type": "execute_result",
          "data": {
            "text/plain": [
              "Ttest_indResult(statistic=-0.20069320812014205, pvalue=0.8413561524454607)"
            ]
          },
          "metadata": {},
          "execution_count": 35
        }
      ]
    },
    {
      "cell_type": "markdown",
      "source": [
        "Since the pvalue is greater than .05 we fail to reject the null hypothesis that Batch 1 and Batch 2 have the same mean. This means that we cannot prove that both batches are not from the same population."
      ],
      "metadata": {
        "id": "CqA0qUYFhzhr"
      }
    },
    {
      "cell_type": "markdown",
      "source": [
        "**Question 3**"
      ],
      "metadata": {
        "id": "T_YMAHLKiwVe"
      }
    },
    {
      "cell_type": "markdown",
      "source": [
        "df = 25 -1 = 24\n",
        "\n",
        "**A.**\n",
        "\n",
        "Using the T-table we get:\n",
        "\n",
        "-3.467 < -2.80 <  -2.797\n",
        "\n",
        "multiple by -1 to get \n",
        "\n",
        "2.797 < 2.80 < 3.467\n",
        "\n",
        "using Colab:"
      ],
      "metadata": {
        "id": "hN7ewqMNla1u"
      }
    },
    {
      "cell_type": "code",
      "source": [
        "a = stats.t.sf(2.797, 24)\n",
        "b = stats.t.sf(3.467, 24)\n",
        "print(a,\"> P-Value >\",b)"
      ],
      "metadata": {
        "colab": {
          "base_uri": "https://localhost:8080/"
        },
        "id": "oNvkHfh7lK6v",
        "outputId": "dec53a95-683e-4a26-c37c-0c5b23b7d9fc"
      },
      "execution_count": null,
      "outputs": [
        {
          "output_type": "stream",
          "name": "stdout",
          "text": [
            "0.004999297771713449 > P-Value > 0.0009994503848696217\n"
          ]
        }
      ]
    },
    {
      "cell_type": "markdown",
      "source": [
        "\n",
        "**B.**\n",
        "\n",
        "Using the T-table we get:\n",
        "\n",
        "-2.064 < -1.75 < -1.711\n",
        "\n",
        "multiple by -1 to get\n",
        "\n",
        "1.711 < 1.75 < 2.064\n",
        "\n",
        "using Colab:"
      ],
      "metadata": {
        "id": "YQ8x0s4xoHXZ"
      }
    },
    {
      "cell_type": "code",
      "source": [
        "c = stats.t.sf(1.711, 24)\n",
        "d = stats.t.sf(2.064, 24)\n",
        "print(c,\"> P-Value >\",d)"
      ],
      "metadata": {
        "colab": {
          "base_uri": "https://localhost:8080/"
        },
        "id": "MXAfrntbpNuu",
        "outputId": "fad32d17-7f56-43f8-cde5-f53220d0f99b"
      },
      "execution_count": null,
      "outputs": [
        {
          "output_type": "stream",
          "name": "stdout",
          "text": [
            "0.04992342563103375 > P-Value > 0.024994804826307313\n"
          ]
        }
      ]
    },
    {
      "cell_type": "markdown",
      "source": [
        "**C.**\n",
        "\n",
        "Using the T-table we get:\n",
        "\n",
        "-2.797 < -2.54 < -2.492\n",
        "\n",
        "multiple by -1 to get\n",
        "\n",
        "2.492 < 2.54 < 2.797\n",
        "\n",
        "using Colab:"
      ],
      "metadata": {
        "id": "sc7OAckepajO"
      }
    },
    {
      "cell_type": "code",
      "source": [
        "e = stats.t.sf(2.492, 24)\n",
        "f = stats.t.sf(2.797, 24)\n",
        "print(e,\"> P-Value >\",f)"
      ],
      "metadata": {
        "colab": {
          "base_uri": "https://localhost:8080/"
        },
        "id": "zwtN_83opyMd",
        "outputId": "6ec9c424-ec64-4b9f-ecf0-4f48cf1584da"
      },
      "execution_count": null,
      "outputs": [
        {
          "output_type": "stream",
          "name": "stdout",
          "text": [
            "0.010003546080642568 > P-Value > 0.004999297771713449\n"
          ]
        }
      ]
    },
    {
      "cell_type": "markdown",
      "source": [
        "**D.**\n",
        "\n",
        "Using the T-table we get:\n",
        "\n",
        "-2.064 < -2.05 < -1.711\n",
        "\n",
        "multiple by -1 to get\n",
        "\n",
        "1.711 < 2.05 < 2.064\n",
        "\n",
        "using Colab:"
      ],
      "metadata": {
        "id": "PZ8VaP8pqOi9"
      }
    },
    {
      "cell_type": "code",
      "source": [
        "g = stats.t.sf(1.711, 24)\n",
        "h = stats.t.sf(2.064, 24)\n",
        "print(e,\"> P-Value >\",f)"
      ],
      "metadata": {
        "colab": {
          "base_uri": "https://localhost:8080/"
        },
        "id": "aORGgBirqgcs",
        "outputId": "24621b19-9389-4bcd-b2d7-2a43a6770591"
      },
      "execution_count": null,
      "outputs": [
        {
          "output_type": "stream",
          "name": "stdout",
          "text": [
            "0.010003546080642568 > P-Value > 0.004999297771713449\n"
          ]
        }
      ]
    },
    {
      "cell_type": "markdown",
      "source": [
        "**Question 4**"
      ],
      "metadata": {
        "id": "qeXKCMz-qrcA"
      }
    },
    {
      "cell_type": "markdown",
      "source": [],
      "metadata": {
        "id": "LOQoEIZ_qt5P"
      }
    },
    {
      "cell_type": "code",
      "source": [
        "data2 = [13.3987, 13.3957, 13.3902, 13.4015, 13.4001,\n",
        "13.3918, 13.3965, 13.3925, 13.3946, 13.4002]"
      ],
      "metadata": {
        "id": "Y7xNRUvsqqcO"
      },
      "execution_count": null,
      "outputs": []
    },
    {
      "cell_type": "markdown",
      "source": [
        "**A.**\n",
        "\n",
        "H0 = mean thickness = 13.4\n",
        "\n",
        "H1 = mean thickness =/= 13.4"
      ],
      "metadata": {
        "id": "iumXbbTwruky"
      }
    },
    {
      "cell_type": "code",
      "source": [
        "stats.ttest_1samp(a=data2, popmean=13.4)"
      ],
      "metadata": {
        "colab": {
          "base_uri": "https://localhost:8080/"
        },
        "id": "TVoC0kFXq6lU",
        "outputId": "958af95a-188e-49ff-f5c7-015f64e7de15"
      },
      "execution_count": null,
      "outputs": [
        {
          "output_type": "execute_result",
          "data": {
            "text/plain": [
              "Ttest_1sampResult(statistic=-3.0905771237069133, pvalue=0.012917430540578496)"
            ]
          },
          "metadata": {},
          "execution_count": 45
        }
      ]
    },
    {
      "cell_type": "markdown",
      "source": [
        "Since the pvalue is less than 0.05 we reject the null hypothesis that the mean thickness is 13.4."
      ],
      "metadata": {
        "id": "3J0exxl-rgfj"
      }
    },
    {
      "cell_type": "markdown",
      "source": [
        "**B.**\n",
        "\n",
        "df = 10 - 1 = 9"
      ],
      "metadata": {
        "id": "O7xoZG7ssBGQ"
      }
    },
    {
      "cell_type": "code",
      "source": [
        "stats.t.interval(alpha=0.99, df=9, loc=np.mean(data2), scale=stats.sem(data2))"
      ],
      "metadata": {
        "colab": {
          "base_uri": "https://localhost:8080/"
        },
        "id": "pih0B1YXsTY-",
        "outputId": "5e89763e-ac40-486f-87a4-2876d3e86134"
      },
      "execution_count": null,
      "outputs": [
        {
          "output_type": "execute_result",
          "data": {
            "text/plain": [
              "(13.392163154187317, 13.400196845812685)"
            ]
          },
          "metadata": {},
          "execution_count": 46
        }
      ]
    },
    {
      "cell_type": "markdown",
      "source": [
        "**C.**\n",
        "\n",
        "The normality assumption is reasonable for this data based on the nature of manufacturing processes. Most manufacturing processes in terms of physical measurements seem to follow a normal distribution since it is normal for some to be above and some to be below the desired amount, but most should be near the mean or desired amount. "
      ],
      "metadata": {
        "id": "jHvzr8P1tDHv"
      }
    }
  ]
}